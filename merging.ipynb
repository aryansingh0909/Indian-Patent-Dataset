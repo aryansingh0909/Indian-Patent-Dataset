{
 "cells": [
  {
   "cell_type": "code",
   "execution_count": 16,
   "metadata": {},
   "outputs": [],
   "source": [
    "import pandas as pd\n"
   ]
  },
  {
   "cell_type": "code",
   "execution_count": 17,
   "metadata": {},
   "outputs": [
    {
     "name": "stdout",
     "output_type": "stream",
     "text": [
      "50034\n",
      "50034\n"
     ]
    }
   ],
   "source": [
    "dfjan2019 = pd.read_csv('jan2019.csv')\n",
    "dffeb2019 = pd.read_csv('feb2019.csv')\n",
    "dfmar2019 = pd.read_csv('mar2019.csv')\n",
    "dfapr2019 = pd.read_csv('apr2019.csv')\n",
    "dfmay2019 = pd.read_csv('may2019.csv')\n",
    "dfjun2019 = pd.read_csv('jun2019.csv')\n",
    "dfjul2019 = pd.read_csv('jul2019.csv')\n",
    "dfaug2019 = pd.read_csv('aug2019.csv')\n",
    "dfsep2019 = pd.read_csv('sep2019.csv')\n",
    "dfoct2019 = pd.read_csv('oct2019.csv')\n",
    "dfnov2019 = pd.read_csv('nov2019.csv')\n",
    "dfdec2019 = pd.read_csv('dec2019.csv')\n",
    "\n",
    "dfjan2019 = dfjan2019.iloc[::-1]\n",
    "dffeb2019 = dffeb2019.iloc[::-1]\n",
    "dfmar2019 = dfmar2019.iloc[::-1]\n",
    "dfapr2019 = dfapr2019.iloc[::-1]\n",
    "dfmay2019 = dfmay2019.iloc[::-1]\n",
    "dfjun2019 = dfjun2019.iloc[::-1]\n",
    "dfjul2019 = dfjul2019.iloc[::-1]\n",
    "dfaug2019 = dfaug2019.iloc[::-1]\n",
    "dfsep2019 = dfsep2019.iloc[::-1]\n",
    "dfoct2019 = dfoct2019.iloc[::-1]\n",
    "dfnov2019 = dfnov2019.iloc[::-1]\n",
    "dfdec2019 = dfdec2019.iloc[::-1]\n",
    "\n",
    "\n",
    "print(len(dfjan2019) + len(dffeb2019) + len(dfmar2019) + len(dfapr2019) + len(dfmay2019) + len(dfjun2019) +\n",
    "      len(dfjul2019) + len(dfaug2019) + len(dfsep2019) +\n",
    "      len(dfoct2019) + len(dfnov2019) + len(dfdec2019))\n",
    "\n",
    "df2019 = pd.concat([dfjan2019, dffeb2019, dfmar2019, dfapr2019, dfmay2019, dfjun2019,\n",
    "                   dfjul2019, dfaug2019, dfsep2019, dfoct2019, dfnov2019, dfdec2019], axis=0, ignore_index=True)\n",
    "print(len(df2019))\n",
    "\n",
    "# # how to concatenate dataframes\n"
   ]
  },
  {
   "cell_type": "code",
   "execution_count": 18,
   "metadata": {},
   "outputs": [
    {
     "name": "stdout",
     "output_type": "stream",
     "text": [
      "length of jan2019:  3683\n",
      "length of feb2019:  3704\n",
      "length of mar2019:  4558\n",
      "length of apr2019:  3902\n",
      "length of may2019:  4187\n",
      "length of jun2019:  3989\n",
      "length of jul2019:  4471\n",
      "length of aug2019:  3825\n",
      "length of sep2019:  3981\n",
      "length of oct2019:  4279\n",
      "length of nov2019:  4542\n",
      "length of dec2019:  4913\n"
     ]
    }
   ],
   "source": [
    "print(\"length of jan2019: \", len(dfjan2019))\n",
    "print(\"length of feb2019: \", len(dffeb2019))\n",
    "print(\"length of mar2019: \", len(dfmar2019))\n",
    "print(\"length of apr2019: \", len(dfapr2019))\n",
    "print(\"length of may2019: \", len(dfmay2019))\n",
    "print(\"length of jun2019: \", len(dfjun2019))\n",
    "print(\"length of jul2019: \", len(dfjul2019))\n",
    "print(\"length of aug2019: \", len(dfaug2019))\n",
    "print(\"length of sep2019: \", len(dfsep2019))\n",
    "print(\"length of oct2019: \", len(dfoct2019))\n",
    "print(\"length of nov2019: \", len(dfnov2019))\n",
    "print(\"length of dec2019: \", len(dfdec2019))"
   ]
  },
  {
   "cell_type": "code",
   "execution_count": 19,
   "metadata": {},
   "outputs": [
    {
     "name": "stderr",
     "output_type": "stream",
     "text": [
      "C:\\Users\\Aryan\\AppData\\Local\\Temp\\ipykernel_8384\\3950792981.py:5: FutureWarning: save is not part of the public API, usage can give unexpected results and will be removed in a future version\n",
      "  writer.save()\n"
     ]
    }
   ],
   "source": [
    "df2019.to_csv('2019.csv', index=False)\n",
    "out_path = \"D:\\\\web_scraping_project\\\\all_data\\\\2019\\\\2019.xlsx\"\n",
    "writer = pd.ExcelWriter(out_path, engine='xlsxwriter')\n",
    "df2019.to_excel(writer, index=False, sheet_name='Sheet1')\n",
    "writer.save()\n"
   ]
  },
  {
   "cell_type": "code",
   "execution_count": 20,
   "metadata": {},
   "outputs": [],
   "source": [
    "def print_rows(df, row_num):\n",
    "    print(df.iloc[row_num, :])\n"
   ]
  },
  {
   "cell_type": "code",
   "execution_count": 21,
   "metadata": {},
   "outputs": [],
   "source": [
    "# print_rows(df2019, 0)\n",
    "# print_rows(df2019, len(df2019) - 1)\n"
   ]
  }
 ],
 "metadata": {
  "kernelspec": {
   "display_name": "Python 3",
   "language": "python",
   "name": "python3"
  },
  "language_info": {
   "codemirror_mode": {
    "name": "ipython",
    "version": 3
   },
   "file_extension": ".py",
   "mimetype": "text/x-python",
   "name": "python",
   "nbconvert_exporter": "python",
   "pygments_lexer": "ipython3",
   "version": "3.10.4"
  },
  "orig_nbformat": 4
 },
 "nbformat": 4,
 "nbformat_minor": 2
}
